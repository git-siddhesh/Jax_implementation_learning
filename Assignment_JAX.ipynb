{
  "nbformat": 4,
  "nbformat_minor": 0,
  "metadata": {
    "colab": {
      "provenance": [],
      "authorship_tag": "ABX9TyMUD9MEGigdAqCo6yIlFRh/",
      "include_colab_link": true
    },
    "kernelspec": {
      "name": "python3",
      "display_name": "Python 3"
    },
    "language_info": {
      "name": "python"
    }
  },
  "cells": [
    {
      "cell_type": "markdown",
      "metadata": {
        "id": "view-in-github",
        "colab_type": "text"
      },
      "source": [
        "<a href=\"https://colab.research.google.com/github/git-siddhesh/Jax_implementation_learning/blob/main/Assignment_JAX.ipynb\" target=\"_parent\"><img src=\"https://colab.research.google.com/assets/colab-badge.svg\" alt=\"Open In Colab\"/></a>"
      ]
    },
    {
      "cell_type": "code",
      "execution_count": 2,
      "metadata": {
        "id": "TzoOy2YOn0mF"
      },
      "outputs": [],
      "source": [
        "# %pip install jax\n",
        "import jax.numpy as jnp\n",
        "from jax.scipy.linalg import cholesky\n",
        "import jax\n",
        "import jax.numpy as jnp\n",
        "import matplotlib.pyplot as plt\n",
        "import seaborn as sns\n",
        "from jax.numpy.linalg import cholesky\n",
        "from jax.scipy.linalg import inv\n",
        "from scipy.stats import multivariate_normal\n",
        "import jax\n",
        "import pandas as pd\n",
        "from scipy.stats import multivariate_normal\n",
        "from mpl_toolkits.mplot3d import Axes3D\n",
        "from matplotlib import cm\n",
        "import torch\n",
        "dist = torch.distributions\n",
        "import numpy as np\n",
        "import matplotlib.pyplot as plt\n",
        "%matplotlib inline"
      ]
    },
    {
      "cell_type": "markdown",
      "source": [
        "# learning reference : \n",
        "https://mmuratarat.github.io/2019-10-05/univariate-multivariate_gaussian\n"
      ],
      "metadata": {
        "id": "PAIwYM7QhoP0"
      }
    },
    {
      "cell_type": "code",
      "source": [],
      "metadata": {
        "id": "BVO73s5-gDGG"
      },
      "execution_count": null,
      "outputs": []
    },
    {
      "cell_type": "code",
      "source": [
        "def multivariate_normal(x, d, mean, covariance):\n",
        "    \"\"\"pdf of the multivariate normal distribution.\"\"\"\n",
        "    x_m = x - mean\n",
        "    return (1. / (np.sqrt((2 * np.pi)**d * np.linalg.det(covariance))) * \n",
        "            np.exp(-(np.linalg.solve(covariance, x_m).T.dot(x_m)) / 2))"
      ],
      "metadata": {
        "id": "0c-mO64ugC78"
      },
      "execution_count": null,
      "outputs": []
    },
    {
      "cell_type": "code",
      "source": [
        "# Plot bivariate distribution\n",
        "def generate_surface(mean, covariance, d):\n",
        "    \"\"\"Helper function to generate density surface.\"\"\"\n",
        "    nb_of_x = 100 # grid size\n",
        "    x1s = np.linspace(-5, 5, num=nb_of_x)\n",
        "    x2s = np.linspace(-5, 5, num=nb_of_x)\n",
        "    print(x1s)\n",
        "    print(x2s)\n",
        "    x1, x2 = np.meshgrid(x1s, x2s) # Generate grid\n",
        "    print(x1)\n",
        "    print(x2)\n",
        "    pdf = np.zeros((nb_of_x, nb_of_x))\n",
        "    print(pdf)\n",
        "    # Fill the cost matrix for each combination of weights\n",
        "    for i in range(nb_of_x):\n",
        "        for j in range(nb_of_x):\n",
        "            pdf[i,j] = multivariate_normal(\n",
        "                np.matrix([[x1[i,j]], [x2[i,j]]]), \n",
        "                d, mean, covariance)\n",
        "    return x1, x2, pdf  # x1, x2, pdf(x1,x2)"
      ],
      "metadata": {
        "id": "Z-q-5PnKgC0m"
      },
      "execution_count": null,
      "outputs": []
    },
    {
      "cell_type": "code",
      "source": [],
      "metadata": {
        "id": "0nphWkEMgCt3"
      },
      "execution_count": null,
      "outputs": []
    },
    {
      "cell_type": "code",
      "source": [
        " \n",
        "\n",
        "\n",
        "\n",
        "\n",
        "\n",
        "\n",
        "# subplot\n",
        "fig, (ax1, ax2) = plt.subplots(nrows=1, ncols=2, figsize=(8,4))\n",
        "d = 2  # number of dimensions\n",
        "\n",
        "# Plot of independent Normals\n",
        "bivariate_mean = np.matrix([[0.], [0.]])  # Mean\n",
        "bivariate_covariance = np.matrix([\n",
        "    [1., 0.], \n",
        "    [0., 1.]])  # Covariance\n",
        "x1, x2, p = generate_surface(\n",
        "    bivariate_mean, bivariate_covariance, d)\n",
        "# Plot bivariate distribution\n",
        "con = ax1.contourf(x1, x2, p, 100, cmap='rainbow')\n",
        "ax1.set_xlabel('$x_1$', fontsize=13)\n",
        "ax1.set_ylabel('$x_2$', fontsize=13)\n",
        "ax1.axis([-2.5, 2.5, -2.5, 2.5])\n",
        "ax1.set_aspect('equal')\n",
        "ax1.set_title('Independent variables', fontsize=12)\n",
        "\n",
        "# Plot of correlated Normals\n",
        "bivariate_mean = np.matrix([[0.], [1.]])  # Mean\n",
        "bivariate_covariance = np.matrix([\n",
        "    [1., 0.8], \n",
        "    [0.8, 1.]])  # Covariance\n",
        "x1, x2, p = generate_surface(\n",
        "    bivariate_mean, bivariate_covariance, d)\n",
        "# Plot bivariate distribution\n",
        "con = ax2.contourf(x1, x2, p, 100, cmap='rainbow')\n",
        "ax2.set_xlabel('$x_1$', fontsize=13)\n",
        "ax2.set_ylabel('$x_2$', fontsize=13)\n",
        "ax2.axis([-2.5, 2.5, -1.5, 3.5])\n",
        "ax2.set_aspect('equal')\n",
        "ax2.set_title('Correlated variables', fontsize=12)\n",
        "\n",
        "# Add colorbar and title\n",
        "fig.subplots_adjust(right=0.8)\n",
        "cbar_ax = fig.add_axes([0.85, 0.15, 0.02, 0.7])\n",
        "cbar = fig.colorbar(con, cax=cbar_ax)\n",
        "cbar.ax.set_ylabel('$p(x_1, x_2)$', fontsize=13)\n",
        "plt.suptitle('Bivariate normal distributions', fontsize=13, y=0.95)\n",
        "plt.savefig('Bivariate_normal_distributon')\n",
        "plt.show()"
      ],
      "metadata": {
        "id": "orXi4d6UchPn"
      },
      "execution_count": null,
      "outputs": []
    },
    {
      "cell_type": "code",
      "source": [],
      "metadata": {
        "id": "Dkb9ImHVf52E"
      },
      "execution_count": null,
      "outputs": []
    },
    {
      "cell_type": "markdown",
      "source": [
        "# Univariate normal distribution "
      ],
      "metadata": {
        "id": "xeNBfiRgnrQW"
      }
    },
    {
      "cell_type": "markdown",
      "source": [
        "Using standard normal variable having mean = 0, variance = 1"
      ],
      "metadata": {
        "id": "DrPOvyhyhGG2"
      }
    },
    {
      "cell_type": "code",
      "source": [
        "def univariate(dataX, meanX=0, varianceX = 1):\n",
        "  num =  jnp.exp( -0.5*( (dataX-meanX)**2/varianceX ) )\n",
        "  denom = (jnp.sqrt(2*jnp.pi*varianceX))\n",
        "  return  num/denom\n",
        "  "
      ],
      "metadata": {
        "id": "QPdfi4V0nsKs"
      },
      "execution_count": 3,
      "outputs": []
    },
    {
      "cell_type": "code",
      "source": [
        "x1 = jnp.linspace(-5,5,250)   # taking 100 sampling points = 100, range(-5,5)\n",
        "# print(x1)\n",
        "y1 = univariate(x1,0,1)\n",
        "# print(y1)\n",
        "print(x1.shape,y1.shape)\n",
        "plt.plot(x1,y1)\n"
      ],
      "metadata": {
        "colab": {
          "base_uri": "https://localhost:8080/",
          "height": 300
        },
        "id": "3r5c6r6CfQYV",
        "outputId": "cf9791de-5258-4c07-a07e-ac0fb899b2eb"
      },
      "execution_count": 7,
      "outputs": [
        {
          "output_type": "stream",
          "name": "stdout",
          "text": [
            "(250,) (250,)\n"
          ]
        },
        {
          "output_type": "execute_result",
          "data": {
            "text/plain": [
              "[<matplotlib.lines.Line2D at 0x7fdb54a77370>]"
            ]
          },
          "metadata": {},
          "execution_count": 7
        },
        {
          "output_type": "display_data",
          "data": {
            "text/plain": [
              "<Figure size 432x288 with 1 Axes>"
            ],
            "image/png": "[encoded data removed]"
          },
          "metadata": {
            "needs_background": "light"
          }
        }
      ]
    },
    {
      "cell_type": "code",
      "source": [
        "mu1 = widgets.FloatSlider(value = 0, min =-3, max = 3, description = \"Mean\")\n",
        "var1 = widgets.FloatSlider(value = 1, min =0, max = 2, description = \"Variance\")\n",
        "\n",
        "from IPython.display import display\n",
        "from ipywidgets import interact, fixed\n",
        "\n",
        "display(mu1)\n",
        "display(var1)\n"
      ],
      "metadata": {
        "id": "gO1K6kCVijuX"
      },
      "execution_count": null,
      "outputs": []
    }
  ]
}